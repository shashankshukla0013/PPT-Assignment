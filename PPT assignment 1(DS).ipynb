{
 "cells": [
  {
   "cell_type": "markdown",
   "id": "c49f4811-8ae2-4382-af43-b580c989e169",
   "metadata": {},
   "source": [
    "Assignment - 1 (DS - PPT Batch) "
   ]
  },
  {
   "cell_type": "code",
   "execution_count": null,
   "id": "c6c553da-3091-49b6-b500-643adda3e803",
   "metadata": {},
   "outputs": [],
   "source": [
    "1. Write a Python program to reverse a string without using any built-in string reversal functions."
   ]
  },
  {
   "cell_type": "code",
   "execution_count": 13,
   "id": "3d9737e2-8ccd-449e-9d6f-19e1c1da2960",
   "metadata": {},
   "outputs": [
    {
     "data": {
      "text/plain": [
       "'nohtyp'"
      ]
     },
     "execution_count": 13,
     "metadata": {},
     "output_type": "execute_result"
    }
   ],
   "source": [
    "st = 'python'\n",
    "st_ = ''\n",
    "for i in range(len(st)):\n",
    "    st_ += (st[len(st)-i-1])\n",
    "st_"
   ]
  },
  {
   "cell_type": "code",
   "execution_count": null,
   "id": "b3522844-9967-4851-9f4a-9d5a11587f50",
   "metadata": {},
   "outputs": [],
   "source": [
    "2. Implement a function to check if a given string is a palindrome."
   ]
  },
  {
   "cell_type": "code",
   "execution_count": 40,
   "id": "5b8d95c6-f107-443f-984c-318763b0ba09",
   "metadata": {},
   "outputs": [
    {
     "data": {
      "text/plain": [
       "True"
      ]
     },
     "execution_count": 40,
     "metadata": {},
     "output_type": "execute_result"
    }
   ],
   "source": [
    "def palindrome(str):\n",
    "    n = len(str)\n",
    "    m = len(str)//2\n",
    "    for i in range(m):\n",
    "        if str[i] != str[n-i-1]:\n",
    "            return False\n",
    "    else:\n",
    "        return True\n",
    "        \n",
    "palindrome(\"sts\")"
   ]
  },
  {
   "cell_type": "code",
   "execution_count": null,
   "id": "48c88bb6-c60e-4580-9f48-e225db4f407c",
   "metadata": {},
   "outputs": [],
   "source": [
    "3. Write a program to find the largest element in a given list."
   ]
  },
  {
   "cell_type": "code",
   "execution_count": 43,
   "id": "cbdba94c-f010-46bd-be75-dc010c9737a5",
   "metadata": {},
   "outputs": [
    {
     "name": "stdout",
     "output_type": "stream",
     "text": [
      "8\n"
     ]
    }
   ],
   "source": [
    "l = [3,1,4,6,0,8]\n",
    "l.sort()\n",
    "print(l[len(l)-1])"
   ]
  },
  {
   "cell_type": "code",
   "execution_count": null,
   "id": "f1118617-17da-40a3-8b04-bf79c43b5b89",
   "metadata": {},
   "outputs": [],
   "source": [
    "4. Implement a function to count the occurrence of each element in a list."
   ]
  },
  {
   "cell_type": "code",
   "execution_count": 47,
   "id": "9c4460cf-99fe-4dc5-938b-51f2bccdc2ed",
   "metadata": {},
   "outputs": [
    {
     "name": "stdout",
     "output_type": "stream",
     "text": [
      "8 has occurred 5 times\n"
     ]
    }
   ],
   "source": [
    "def count(list):\n",
    "\tcount = 0\n",
    "\tfor i in lst:\n",
    "\t\tif (i == x):\n",
    "\t\t\tcount = count + 1\n",
    "\treturn count\n",
    "lst = [8, 6, 8, 10, 8, 20, 10, 8, 8]\n",
    "x = 8\n",
    "print('{} has occurred {} times'.format(x,count(lst)))\n",
    "\n",
    "    \n",
    "    "
   ]
  },
  {
   "cell_type": "code",
   "execution_count": null,
   "id": "388e603d-066a-4e3e-8003-e7ff9f7b5a9c",
   "metadata": {},
   "outputs": [],
   "source": [
    "5. Write a Python program to find the second largest number in a list."
   ]
  },
  {
   "cell_type": "code",
   "execution_count": 48,
   "id": "772ef49b-3a2b-4f83-879f-5647cce2e1b9",
   "metadata": {},
   "outputs": [
    {
     "data": {
      "text/plain": [
       "4"
      ]
     },
     "execution_count": 48,
     "metadata": {},
     "output_type": "execute_result"
    }
   ],
   "source": [
    "l = [2,3,4,1,7,1,0]\n",
    "l.sort()\n",
    "l[len(l)-2]"
   ]
  },
  {
   "cell_type": "code",
   "execution_count": null,
   "id": "46175e44-b35a-4e5e-aa7f-d2970d832fcb",
   "metadata": {},
   "outputs": [],
   "source": [
    "6. Implement a function to remove duplicate elements from a list."
   ]
  },
  {
   "cell_type": "code",
   "execution_count": 51,
   "id": "331e49ff-8433-4e64-beda-f2f6a8a37c09",
   "metadata": {},
   "outputs": [
    {
     "data": {
      "text/plain": [
       "[1, 2, 3, 4]"
      ]
     },
     "execution_count": 51,
     "metadata": {},
     "output_type": "execute_result"
    }
   ],
   "source": [
    "def dupli(lis):\n",
    "    return list(set(lis))\n",
    "dupli([1,4,4,2,3])"
   ]
  },
  {
   "cell_type": "code",
   "execution_count": null,
   "id": "663a3cec-8df3-4af4-bf15-30e6c741efe7",
   "metadata": {},
   "outputs": [],
   "source": [
    "7. Write a program to calculate the factorial of a given number."
   ]
  },
  {
   "cell_type": "code",
   "execution_count": 57,
   "id": "a05e7dfe-dd2f-4cca-85f6-87e9bd4de99f",
   "metadata": {},
   "outputs": [
    {
     "name": "stdin",
     "output_type": "stream",
     "text": [
      "Enter the number =  3\n"
     ]
    },
    {
     "name": "stdout",
     "output_type": "stream",
     "text": [
      "6\n"
     ]
    }
   ],
   "source": [
    "n = int(input(\"Enter the number = \"))\n",
    "for i in range(1,n):\n",
    "    n = n*i\n",
    "print(n)"
   ]
  },
  {
   "cell_type": "code",
   "execution_count": null,
   "id": "2f76dfe1-da37-4930-91dd-b5b6588912c0",
   "metadata": {},
   "outputs": [],
   "source": [
    "8. Implement a function to check if a given number is prime."
   ]
  },
  {
   "cell_type": "code",
   "execution_count": 67,
   "id": "524bd918-8460-459d-8043-ac56d765a9f3",
   "metadata": {},
   "outputs": [
    {
     "name": "stdout",
     "output_type": "stream",
     "text": [
      "Number is prime\n"
     ]
    }
   ],
   "source": [
    "def numberIsPrime(nu):\n",
    "    temp = 0\n",
    "    for i in range(2,nu-1):\n",
    "        if nu%i == 0:\n",
    "            temp += 1\n",
    "    if temp == 0:\n",
    "        print(\"Number is prime\")\n",
    "    else :\n",
    "        print(\"Number is not prime\")\n",
    "numberIsPrime(5)  "
   ]
  },
  {
   "cell_type": "code",
   "execution_count": null,
   "id": "b40dd8f0-8181-41a5-99aa-592599c1d777",
   "metadata": {},
   "outputs": [],
   "source": [
    "9. Write a Python program to sort a list of integers in ascending order."
   ]
  },
  {
   "cell_type": "code",
   "execution_count": 72,
   "id": "67be241b-61bb-4b6e-a90a-73daef170a41",
   "metadata": {},
   "outputs": [
    {
     "data": {
      "text/plain": [
       "[0, 1, 2, 2, 3, 4, 5, 9]"
      ]
     },
     "execution_count": 72,
     "metadata": {},
     "output_type": "execute_result"
    }
   ],
   "source": [
    "lis = [0,4,1,2,9,3,5,2]\n",
    "for i in range(len(lis)):\n",
    "    for j in range(i,len(lis)):\n",
    "        if lis[j] <= lis[i] :\n",
    "            lis[j] , lis[i] = lis[i] , lis[j]\n",
    "lis           "
   ]
  },
  {
   "cell_type": "code",
   "execution_count": null,
   "id": "95f1ce91-cdb0-452e-a1b5-88e007db5000",
   "metadata": {},
   "outputs": [],
   "source": [
    "10. Implement a function to find the sum of all numbers in a list.\n"
   ]
  },
  {
   "cell_type": "code",
   "execution_count": 78,
   "id": "fac6ba2b-654f-4b4d-9312-b453a8f56b72",
   "metadata": {},
   "outputs": [
    {
     "name": "stdout",
     "output_type": "stream",
     "text": [
      "Number of elements in the list =  17\n"
     ]
    }
   ],
   "source": [
    "def sumOfnu(lis):\n",
    "    number = 0 \n",
    "    for i in range(len(lis)):\n",
    "        number = number+lis[i]\n",
    "    print(\"Number of elements in the list = \" , number)\n",
    "sumOfnu([2,3,1,7,4])\n"
   ]
  },
  {
   "cell_type": "code",
   "execution_count": null,
   "id": "792f183d-110d-4541-b197-524f5d83aac0",
   "metadata": {},
   "outputs": [],
   "source": [
    "11. Write a program to find the common elements between two lists."
   ]
  },
  {
   "cell_type": "code",
   "execution_count": 83,
   "id": "6360f27f-27f9-4477-b8df-3f039b82d296",
   "metadata": {},
   "outputs": [
    {
     "name": "stdout",
     "output_type": "stream",
     "text": [
      "[0, 1]\n"
     ]
    }
   ],
   "source": [
    "lis1 = [1,2,5,0,1]\n",
    "lis2 = [0,1,6,9]\n",
    "lis = []\n",
    "for i in lis1:\n",
    "    for j in lis2:\n",
    "        if i==j:\n",
    "            lis.append(j)\n",
    "print(list(set(lis)))"
   ]
  },
  {
   "cell_type": "code",
   "execution_count": null,
   "id": "e8dd13ea-1d84-46ce-a25b-ec44cc875448",
   "metadata": {},
   "outputs": [],
   "source": [
    "12. Implement a function to check if a given string is an anagram of another string."
   ]
  },
  {
   "cell_type": "code",
   "execution_count": 1,
   "id": "2221fbcf-3727-48c6-a407-7752e0c876bf",
   "metadata": {},
   "outputs": [
    {
     "name": "stdout",
     "output_type": "stream",
     "text": [
      "String is an anagram of another string\n"
     ]
    }
   ],
   "source": [
    "def ana(str1,str2):\n",
    "    str1= list(str1)\n",
    "    str2= list(str2)\n",
    "    str1.sort()\n",
    "    str2.sort()\n",
    "    if str1 == str2 :\n",
    "        print(\"String is an anagram of another string\")\n",
    "    else :\n",
    "        print(\"String is not an anagram of another string\")\n",
    "\n",
    "ana('race','care')"
   ]
  },
  {
   "cell_type": "code",
   "execution_count": null,
   "id": "fc92cf25-ba34-4cf6-ae1f-73a7ad0432c8",
   "metadata": {},
   "outputs": [],
   "source": [
    "13. Write a Python program to generate all permutations of a given string."
   ]
  },
  {
   "cell_type": "code",
   "execution_count": null,
   "id": "a997d8d0-ef45-4286-badb-6b30388af8ef",
   "metadata": {},
   "outputs": [
    {
     "name": "stdout",
     "output_type": "stream",
     "text": [
      "['ABC', 'ACB', 'BAC', 'BCA', 'CAB', 'CBA']\n"
     ]
    }
   ],
   "source": [
    "import itertools\n",
    " \n",
    "\n",
    "s = 'ABC'\n",
    "\n",
    "nums = list(s)\n",
    "permutations = list(itertools.permutations(nums))\n",
    "print([''.join(permutation) for permutation in permutations])"
   ]
  },
  {
   "cell_type": "code",
   "execution_count": null,
   "id": "52257dab-3675-476b-837c-c2cb3e52e862",
   "metadata": {},
   "outputs": [],
   "source": [
    "14. Implement a function to calculate the Fibonacci sequence up to a given number of terms."
   ]
  },
  {
   "cell_type": "code",
   "execution_count": 1,
   "id": "fe42d635-6745-4862-b4d4-a45426265421",
   "metadata": {},
   "outputs": [
    {
     "name": "stdout",
     "output_type": "stream",
     "text": [
      "34\n"
     ]
    }
   ],
   "source": [
    "def fibonacci(n):\n",
    "    a = 0\n",
    "    b = 1\n",
    "    if n < 0:\n",
    "        print(\"Incorrect input\")\n",
    "    elif n == 0:\n",
    "        return a\n",
    "    elif n == 1:\n",
    "        return b\n",
    "    else:\n",
    "        for i in range(2, n+1):\n",
    "            c = a + b\n",
    "            a = b\n",
    "            b = c\n",
    "        return b\n",
    "print(fibonacci(9))\n"
   ]
  },
  {
   "cell_type": "code",
   "execution_count": null,
   "id": "08e25f9c-d3f1-4e65-a116-d59ac786bd2a",
   "metadata": {},
   "outputs": [],
   "source": [
    "15. Write a program to find the median of a list of numbers.\n"
   ]
  },
  {
   "cell_type": "code",
   "execution_count": 8,
   "id": "421a6ceb-42c1-416d-9762-454b96a64a7b",
   "metadata": {},
   "outputs": [
    {
     "name": "stdout",
     "output_type": "stream",
     "text": [
      "Median =  2.5\n"
     ]
    }
   ],
   "source": [
    "l = [1,5,1,0,2,3,7]\n",
    "l.sort()\n",
    "if (len(l)-1)%2 != 0:\n",
    "    print(\"Median = \",l[(len(l)-1)/2])\n",
    "else:\n",
    "    print(\"Median = \",(l[(len(l)-1)//2]+l[((len(l)-1)//2)+1])/2)"
   ]
  },
  {
   "cell_type": "code",
   "execution_count": null,
   "id": "a7a95783-7091-40f1-9df5-76a265e0bd68",
   "metadata": {},
   "outputs": [],
   "source": [
    "16. Implement a function to check if a given list is sorted in non-decreasing order."
   ]
  },
  {
   "cell_type": "code",
   "execution_count": 18,
   "id": "25cfce31-a2a6-43ba-9c95-dcf684d9377e",
   "metadata": {},
   "outputs": [
    {
     "name": "stdout",
     "output_type": "stream",
     "text": [
      "Not Sorted\n"
     ]
    }
   ],
   "source": [
    "def nonDec(li):\n",
    "    if li != sorted(li):\n",
    "        print(\"Not Sorted\")\n",
    "    else:\n",
    "        print(\"Sorted\")\n",
    "nonDec([1,22,2,15])"
   ]
  },
  {
   "cell_type": "code",
   "execution_count": null,
   "id": "4d617070-07de-4d62-8a66-ea22be9197eb",
   "metadata": {},
   "outputs": [],
   "source": [
    "17. Write a Python program to find the intersection of two lists.\n"
   ]
  },
  {
   "cell_type": "code",
   "execution_count": 19,
   "id": "733541d5-d4e5-4dca-b0c4-c8472103a6b6",
   "metadata": {},
   "outputs": [
    {
     "name": "stdout",
     "output_type": "stream",
     "text": [
      "[0, 1]\n"
     ]
    }
   ],
   "source": [
    "lis1 = [1,2,5,0,1]\n",
    "lis2 = [0,1,6,9]\n",
    "lis = []\n",
    "for i in lis1:\n",
    "    for j in lis2:\n",
    "        if i==j:\n",
    "            lis.append(j)\n",
    "print(list(set(lis)))"
   ]
  },
  {
   "cell_type": "code",
   "execution_count": null,
   "id": "1d9c7e7b-1c60-46ca-8019-f71ab1604596",
   "metadata": {},
   "outputs": [],
   "source": [
    "18. Implement a function to find the maximum subarray sum in a given list."
   ]
  },
  {
   "cell_type": "code",
   "execution_count": 32,
   "id": "bb14b35d-911c-4c51-90cb-f356544dc2a0",
   "metadata": {},
   "outputs": [
    {
     "name": "stdout",
     "output_type": "stream",
     "text": [
      "The sum of contiguous sublist with the largest sum is 6\n"
     ]
    }
   ],
   "source": [
    "def kadane(arr):\n",
    "    max_so_far = 0\n",
    "    max_ending_here = 0\n",
    "    for i in arr:\n",
    "        max_ending_here = max_ending_here + i\n",
    "        max_ending_here = max(max_ending_here, 0)\n",
    "        max_so_far = max(max_so_far, max_ending_here)\n",
    " \n",
    "    return max_so_far\n",
    "arr = [-2, 1, -3, 4, -1, 2, 1, -5, 4]\n",
    "print('The sum of contiguous sublist with the largest sum is', kadane(arr))\n",
    " \n"
   ]
  },
  {
   "cell_type": "code",
   "execution_count": null,
   "id": "cc5ed9a5-f7f9-49fa-8d8e-43ccd0e8b22e",
   "metadata": {},
   "outputs": [],
   "source": [
    "19. Write a program to remove all vowels from a given string."
   ]
  },
  {
   "cell_type": "code",
   "execution_count": 30,
   "id": "59560753-5c5d-4a46-bdc1-1ddcc9019414",
   "metadata": {},
   "outputs": [
    {
     "data": {
      "text/plain": [
       "'sdnkrf'"
      ]
     },
     "execution_count": 30,
     "metadata": {},
     "output_type": "execute_result"
    }
   ],
   "source": [
    "st = \"asdnkierfo\"\n",
    "st_ = \"\"\n",
    "for i in range(len(st)):\n",
    "    if st[i] == 'a' or st[i] == 'e' or st[i] == 'i' or st[i] == 'o' or st[i] == 'u':\n",
    "        pass\n",
    "    else:\n",
    "        st_ += st[i]\n",
    "        \n",
    "st_   "
   ]
  },
  {
   "cell_type": "code",
   "execution_count": null,
   "id": "e10fd8eb-3eff-4d82-b57b-93b1c714e4e9",
   "metadata": {},
   "outputs": [],
   "source": [
    "20. Implement a function to reverse the order of words in a given sentence."
   ]
  },
  {
   "cell_type": "code",
   "execution_count": 36,
   "id": "e2a8aab7-7811-46f9-9b28-2f5a74a2f29d",
   "metadata": {},
   "outputs": [
    {
     "data": {
      "text/plain": [
       "'nem ma I  iH'"
      ]
     },
     "execution_count": 36,
     "metadata": {},
     "output_type": "execute_result"
    }
   ],
   "source": [
    "def reverse(st):\n",
    "    return sentence[::-1]\n",
    "reverse(\"Hi  I am men\")\n"
   ]
  },
  {
   "cell_type": "code",
   "execution_count": null,
   "id": "9b16a12a-2c2d-4d5c-854b-f470b523e673",
   "metadata": {},
   "outputs": [],
   "source": [
    "21. Write a Python program to check if two strings are anagrams of each other."
   ]
  },
  {
   "cell_type": "code",
   "execution_count": 2,
   "id": "822f6261-7a3c-4ea4-aa38-d08ac55237f9",
   "metadata": {},
   "outputs": [
    {
     "name": "stdout",
     "output_type": "stream",
     "text": [
      "String is an anagram of another string\n"
     ]
    }
   ],
   "source": [
    "def ana(str1,str2):\n",
    "    str1= list(str1)\n",
    "    str2= list(str2)\n",
    "    str1.sort()\n",
    "    str2.sort()\n",
    "    if str1 == str2 :\n",
    "        print(\"String is an anagram of another string\")\n",
    "    else :\n",
    "        print(\"String is not an anagram of another string\")\n",
    "\n",
    "ana('race','care')"
   ]
  },
  {
   "cell_type": "code",
   "execution_count": null,
   "id": "8c380cad-af6d-4b73-970f-83efed36d6bf",
   "metadata": {},
   "outputs": [],
   "source": [
    "22. Implement a function to find the first non-repeating character in a string.\n"
   ]
  },
  {
   "cell_type": "code",
   "execution_count": 3,
   "id": "03fb7869-7577-4c36-85f9-0e17482e3ec7",
   "metadata": {},
   "outputs": [],
   "source": [
    "def nonRepeating(st):\n",
    "    for i in range(len(st)):\n",
    "        if st.count(st[i]) == 0:\n",
    "            print('{} is the first non-repeating number '.format(st[i]))\n",
    "            break\n",
    "            \n",
    "nonRepeating(\"aasedfrs\")"
   ]
  },
  {
   "cell_type": "code",
   "execution_count": null,
   "id": "8c17436c-11e9-4643-b5ec-b7c53a32e3b9",
   "metadata": {},
   "outputs": [],
   "source": [
    "23. Write a program to find the prime factors of a given number.\n"
   ]
  },
  {
   "cell_type": "code",
   "execution_count": 4,
   "id": "01697cfc-b347-4a3a-94e6-153aaa86e4c3",
   "metadata": {},
   "outputs": [
    {
     "name": "stdin",
     "output_type": "stream",
     "text": [
      "Enter the number =  6\n"
     ]
    },
    {
     "data": {
      "text/plain": [
       "[1, 2, 3, 6]"
      ]
     },
     "execution_count": 4,
     "metadata": {},
     "output_type": "execute_result"
    }
   ],
   "source": [
    "n = int(input(\"Enter the number = \"))\n",
    "l = []\n",
    "for i in range(1,n+1):\n",
    "    if n % i == 0:\n",
    "        l.append(i)\n",
    "l    "
   ]
  },
  {
   "cell_type": "code",
   "execution_count": null,
   "id": "8c2d3867-8fae-4ea7-81d4-82e46221d67a",
   "metadata": {},
   "outputs": [],
   "source": [
    "24. Implement a function to check if a given number is a power of two.\n"
   ]
  },
  {
   "cell_type": "code",
   "execution_count": 1,
   "id": "003726f1-2810-4978-94ff-d7201cffc40a",
   "metadata": {},
   "outputs": [
    {
     "name": "stdout",
     "output_type": "stream",
     "text": [
      "Yes number is a power of two\n"
     ]
    }
   ],
   "source": [
    "def powerOfTwo(n):\n",
    "    while(True):\n",
    "        if n%2==0:\n",
    "            n = n/2\n",
    "            if n == 1:\n",
    "                print(\"Yes number is a power of two\")\n",
    "                break\n",
    "powerOfTwo(16)"
   ]
  },
  {
   "cell_type": "code",
   "execution_count": null,
   "id": "f8b81754-00c3-41f1-98ed-0f16c593688f",
   "metadata": {},
   "outputs": [],
   "source": [
    "25. Write a Python program to merge two sorted lists into a single sorted list.\n"
   ]
  },
  {
   "cell_type": "code",
   "execution_count": 47,
   "id": "e333a845-db61-40ad-aac7-375752890e51",
   "metadata": {},
   "outputs": [
    {
     "data": {
      "text/plain": [
       "[3, 1, True, 6, 'Abc', False, 5, 1, 'bhu']"
      ]
     },
     "execution_count": 47,
     "metadata": {},
     "output_type": "execute_result"
    }
   ],
   "source": [
    "l1 = [3,1,True,6,\"Abc\"]\n",
    "l2 = [False, 5 ,1 ,\"bhu\"]\n",
    "l1.extend(l2)\n",
    "l1"
   ]
  },
  {
   "cell_type": "code",
   "execution_count": null,
   "id": "52dda5f1-9053-4196-b1fa-9141c1a62f54",
   "metadata": {},
   "outputs": [],
   "source": [
    "26. Implement a function to find the mode of a list of numbers.\n"
   ]
  },
  {
   "cell_type": "code",
   "execution_count": 49,
   "id": "f811f66b-be5d-4958-ae53-8b880821e4a1",
   "metadata": {},
   "outputs": [
    {
     "data": {
      "text/plain": [
       "1"
      ]
     },
     "execution_count": 49,
     "metadata": {},
     "output_type": "execute_result"
    }
   ],
   "source": [
    "import statistics as st\n",
    "li = [1,2,1,3,7,1,2]\n",
    "st.mode(li)"
   ]
  },
  {
   "cell_type": "code",
   "execution_count": null,
   "id": "c45a3a3b-80bb-401a-8df4-e60d78635e45",
   "metadata": {},
   "outputs": [],
   "source": [
    "27. Write a program to find the greatest common divisor (GCD) of two numbers.\n"
   ]
  },
  {
   "cell_type": "code",
   "execution_count": 4,
   "id": "f43435ab-9745-46c3-9b82-140c3c60aa10",
   "metadata": {},
   "outputs": [
    {
     "data": {
      "text/plain": [
       "4"
      ]
     },
     "execution_count": 4,
     "metadata": {},
     "output_type": "execute_result"
    }
   ],
   "source": [
    "def gcd(x,y):\n",
    "    if x > y:\n",
    "        smaller = y\n",
    "    else:\n",
    "        smaller = x\n",
    "    \n",
    "    for i in range(1,smaller-1):\n",
    "        if x%i == 0 and y%i == 0:\n",
    "            hcf = i\n",
    "    return hcf\n",
    "gcd(8,12)"
   ]
  },
  {
   "cell_type": "code",
   "execution_count": null,
   "id": "fa3314b0-4066-4e72-810a-8d309e18d0b4",
   "metadata": {},
   "outputs": [],
   "source": [
    "28. Implement a function to calculate the square root of a given number.\n"
   ]
  },
  {
   "cell_type": "code",
   "execution_count": 51,
   "id": "2a6d60d4-7286-4b7c-accb-1c0b8154c4d5",
   "metadata": {},
   "outputs": [
    {
     "data": {
      "text/plain": [
       "6.0"
      ]
     },
     "execution_count": 51,
     "metadata": {},
     "output_type": "execute_result"
    }
   ],
   "source": [
    "import math\n",
    "def sqqr(nu):\n",
    "    return math.sqrt(nu)\n",
    "sqqr(36)"
   ]
  },
  {
   "cell_type": "code",
   "execution_count": null,
   "id": "bc44427b-8f65-4a76-a7f5-88fd725fa04e",
   "metadata": {},
   "outputs": [],
   "source": [
    "29. Write a Python program to check if a given string is a valid palindrome ignoring non-alphanumeric characters.\n"
   ]
  },
  {
   "cell_type": "code",
   "execution_count": 52,
   "id": "56fd047e-f24d-41b0-a96c-707198645add",
   "metadata": {},
   "outputs": [
    {
     "name": "stdout",
     "output_type": "stream",
     "text": [
      "Yes\n"
     ]
    }
   ],
   "source": [
    "def isPalindrome(s):\n",
    "    return s == s[::-1]\n",
    "s = \"malayalam\"\n",
    "ans = isPalindrome(s)\n",
    " \n",
    "if ans:\n",
    "    print(\"Yes\")\n",
    "else:\n",
    "    print(\"No\")"
   ]
  },
  {
   "cell_type": "code",
   "execution_count": null,
   "id": "3c623646-f781-488c-a93f-3a05e4eb1211",
   "metadata": {},
   "outputs": [],
   "source": [
    "30. Implement a function to find the minimum element in a rotated sorted list.\n"
   ]
  },
  {
   "cell_type": "code",
   "execution_count": 2,
   "id": "caafb028-7743-4b11-b7c1-b9395e578d1a",
   "metadata": {},
   "outputs": [
    {
     "name": "stdout",
     "output_type": "stream",
     "text": [
      "1\n"
     ]
    }
   ],
   "source": [
    "def findMin(arr, N):\n",
    "\t\n",
    "\tmin_ele = arr[0];\n",
    "\tfor i in range(N) :\n",
    "\t\tif arr[i] < min_ele :\n",
    "\t\t\tmin_ele = arr[i]\n",
    "\n",
    "\treturn min_ele;\n",
    "\n",
    "arr = [5, 6, 1, 2, 3, 4]\n",
    "N = len(arr)\n",
    "\n",
    "print(findMin(arr,N))"
   ]
  },
  {
   "cell_type": "code",
   "execution_count": null,
   "id": "26195b83-65cd-4e88-87f6-d4835f47b134",
   "metadata": {},
   "outputs": [],
   "source": [
    "31. Write a program to find the sum of all even numbers in a list.\n"
   ]
  },
  {
   "cell_type": "code",
   "execution_count": 53,
   "id": "dd8bc6b4-b3f7-4f10-9344-1f8890f39ed6",
   "metadata": {},
   "outputs": [
    {
     "data": {
      "text/plain": [
       "6"
      ]
     },
     "execution_count": 53,
     "metadata": {},
     "output_type": "execute_result"
    }
   ],
   "source": [
    "result = 0\n",
    "l1 = [4,0,1,3,2]\n",
    "for i in l1:\n",
    "    if i % 2 == 0:\n",
    "        result = result + i\n",
    "result"
   ]
  },
  {
   "cell_type": "code",
   "execution_count": null,
   "id": "c00a5e50-7d52-4034-9adb-fe58a568d0b3",
   "metadata": {},
   "outputs": [],
   "source": [
    "32. Implement a function to calculate the power of a number using recursion.\n"
   ]
  },
  {
   "cell_type": "code",
   "execution_count": 3,
   "id": "953501a2-9dc8-43e9-9de0-1d05e0f0032f",
   "metadata": {},
   "outputs": [
    {
     "name": "stdout",
     "output_type": "stream",
     "text": [
      "25\n"
     ]
    }
   ],
   "source": [
    "def power(N, P):\n",
    "\tif P == 0:\n",
    "\t\treturn 1\n",
    "\treturn (N*power(N, P-1))\n",
    "N = 5\n",
    "P = 2\n",
    "\n",
    "print(power(N, P))\n"
   ]
  },
  {
   "cell_type": "code",
   "execution_count": null,
   "id": "f5edb058-d557-4093-bf85-9e6a9a4ae69e",
   "metadata": {},
   "outputs": [],
   "source": [
    "33. Write a Python program to remove duplicates from a list while preserving the order.\n"
   ]
  },
  {
   "cell_type": "code",
   "execution_count": 4,
   "id": "17c81a99-24a2-4945-8ee5-408801c878fb",
   "metadata": {},
   "outputs": [
    {
     "name": "stdout",
     "output_type": "stream",
     "text": [
      "[2, 4, 10, 20, 5]\n"
     ]
    }
   ],
   "source": [
    "def Remove(duplicate):\n",
    "\tfinal_list = []\n",
    "\tfor num in duplicate:\n",
    "\t\tif num not in final_list:\n",
    "\t\t\tfinal_list.append(num)\n",
    "\treturn final_list\n",
    "\t\n",
    "duplicate = [2, 4, 10, 20, 5, 2, 20, 4]\n",
    "print(Remove(duplicate))\n"
   ]
  },
  {
   "cell_type": "code",
   "execution_count": null,
   "id": "3cb61af9-ff2f-4950-8b6f-bd8dbe7e1c22",
   "metadata": {},
   "outputs": [],
   "source": [
    "34. Implement a function to find the longest common prefix among a list of strings.\n"
   ]
  },
  {
   "cell_type": "code",
   "execution_count": 6,
   "id": "5054fd50-39b2-407b-bd15-c50a215d7b93",
   "metadata": {},
   "outputs": [
    {
     "name": "stdout",
     "output_type": "stream",
     "text": [
      "The longest Common Prefix is : lee\n"
     ]
    }
   ],
   "source": [
    "def longestCommonPrefix( a):\t\n",
    "\tsize = len(a)\n",
    "\tif (size == 0):\n",
    "\t\treturn \"\"\n",
    "\n",
    "\tif (size == 1):\n",
    "\t\treturn a[0]\n",
    "\ta.sort()\n",
    "\tend = min(len(a[0]), len(a[size - 1]))\n",
    "\ti = 0\n",
    "\twhile (i < end and\n",
    "\t\ta[0][i] == a[size - 1][i]):\n",
    "\t\ti += 1\n",
    "\n",
    "\tpre = a[0][0: i]\n",
    "\treturn pre\n",
    "\n",
    "\n",
    "input = [\"leetcode\", \"leet\",\"lee\"]\n",
    "print(\"The longest Common Prefix is :\" ,\n",
    "            longestCommonPrefix(input))\n",
    "\n"
   ]
  },
  {
   "cell_type": "code",
   "execution_count": null,
   "id": "2e5fafc0-2e8f-4666-b702-c468393aeb52",
   "metadata": {},
   "outputs": [],
   "source": [
    "35. Write a program to check if a given number is a perfect square.\n"
   ]
  },
  {
   "cell_type": "code",
   "execution_count": 7,
   "id": "051cc18d-e8cc-4e85-9132-cdbecfb08f51",
   "metadata": {},
   "outputs": [
    {
     "name": "stdout",
     "output_type": "stream",
     "text": [
      "perfect square\n"
     ]
    }
   ],
   "source": [
    "import math\n",
    "def checkperfectsquare(x):\n",
    "\tif (math.ceil(math.sqrt(n)) ==\n",
    "\tmath.floor(math.sqrt(n))):\n",
    "\t\tprint(\"perfect square\")\n",
    "\telse:\n",
    "\t\tprint(\"not a perfect square\")\n",
    "n = 49\n",
    "\n",
    "checkperfectsquare(n)"
   ]
  },
  {
   "cell_type": "code",
   "execution_count": null,
   "id": "84be98d3-752a-4b7c-9164-f66c7befc146",
   "metadata": {},
   "outputs": [],
   "source": [
    "36. Implement a function to calculate the product of all elements in a list.\n"
   ]
  },
  {
   "cell_type": "code",
   "execution_count": 55,
   "id": "6421df41-6d7f-4d88-b2c3-f84439130b2e",
   "metadata": {},
   "outputs": [
    {
     "data": {
      "text/plain": [
       "24"
      ]
     },
     "execution_count": 55,
     "metadata": {},
     "output_type": "execute_result"
    }
   ],
   "source": [
    "result = 1\n",
    "l1 = [4,1,3,2]\n",
    "for i in l1:\n",
    "        result = result * i\n",
    "result"
   ]
  },
  {
   "cell_type": "code",
   "execution_count": null,
   "id": "1457b0f6-3ff5-48aa-894e-59f199b6e379",
   "metadata": {},
   "outputs": [],
   "source": [
    "37. Write a Python program to reverse the order of words in a sentence while preserving the word order.\n"
   ]
  },
  {
   "cell_type": "code",
   "execution_count": 8,
   "id": "93de7a42-e7e3-48f9-9474-fc0219f98012",
   "metadata": {},
   "outputs": [
    {
     "name": "stdout",
     "output_type": "stream",
     "text": [
      "show big a am I\n"
     ]
    }
   ],
   "source": [
    "\n",
    "string = \"I am a big show\"\n",
    "s = string.split()[::-1]\n",
    "l = []\n",
    "for i in s:\n",
    "\tl.append(i)\n",
    "print(\" \".join(l))\n"
   ]
  },
  {
   "cell_type": "code",
   "execution_count": null,
   "id": "ecf51bfa-40af-4fe2-8685-ef5cff4e7b11",
   "metadata": {},
   "outputs": [],
   "source": [
    "38. Implement a function to find the missing number in a given list of consecutive numbers.\n"
   ]
  },
  {
   "cell_type": "code",
   "execution_count": null,
   "id": "1cbe8fc5-2ed0-4823-9ad2-8b8a46db5d4d",
   "metadata": {},
   "outputs": [],
   "source": [
    "def findMissing(arr, N):\n",
    "\ttemp = [0] * (N+1)\n",
    "\tfor i in range(0, N):\n",
    "\t\ttemp[arr[i] - 1] = 1\n",
    "\tfor i in range(0, N+1):\n",
    "\t\tif(temp[i] == 0):\n",
    "\t\t\tans = i + 1\n",
    "\tprint(ans)\n",
    "\tarr = [1, 2, 3, 5]\n",
    "\tN = len(arr)\n",
    "\tfindMissing(arr, N)"
   ]
  },
  {
   "cell_type": "code",
   "execution_count": null,
   "id": "7f4aed88-e82e-4c6e-9ca9-4bf2336e1310",
   "metadata": {},
   "outputs": [],
   "source": [
    "39. Write a program to find the sum of digits of a given number."
   ]
  },
  {
   "cell_type": "code",
   "execution_count": 68,
   "id": "0ec3f2e3-ba7f-49a3-8921-e471e2533365",
   "metadata": {},
   "outputs": [
    {
     "data": {
      "text/plain": [
       "14"
      ]
     },
     "execution_count": 69,
     "metadata": {},
     "output_type": "execute_result"
    }
   ],
   "source": [
    "number = 21560\n",
    "result = 0\n",
    "for i in range(5):\n",
    "    result = result + number%10\n",
    "    number = number//10\n",
    "\n",
    "result"
   ]
  },
  {
   "cell_type": "code",
   "execution_count": null,
   "id": "293b59c4-8827-44a4-aca1-791963623932",
   "metadata": {},
   "outputs": [],
   "source": [
    "40. Implement a function to check if a given string is a valid palindrome considering case sensitivity."
   ]
  },
  {
   "cell_type": "code",
   "execution_count": 9,
   "id": "75155996-6ef8-42e3-9544-ff66495b6ea9",
   "metadata": {},
   "outputs": [
    {
     "name": "stdout",
     "output_type": "stream",
     "text": [
      "Yes\n"
     ]
    }
   ],
   "source": [
    "def isPalindrome(s):\n",
    "    return s == s[::-1]\n",
    "s = \"malayalam\"\n",
    "ans = isPalindrome(s)\n",
    " \n",
    "if ans:\n",
    "    print(\"Yes\")\n",
    "else:\n",
    "    print(\"No\")"
   ]
  },
  {
   "cell_type": "code",
   "execution_count": null,
   "id": "2c78184e-c305-4771-82cb-f6e9b149cd96",
   "metadata": {},
   "outputs": [],
   "source": [
    "41. Write a Python program to find the smallest missing positive integer in a list."
   ]
  },
  {
   "cell_type": "code",
   "execution_count": 11,
   "id": "2d72cf34-83d4-44c1-b4cc-a53c9d7dc5b9",
   "metadata": {},
   "outputs": [
    {
     "name": "stdout",
     "output_type": "stream",
     "text": [
      "1\n"
     ]
    }
   ],
   "source": [
    "def solution(A):\n",
    "\tm = max(A) \n",
    "\tif m < 1:\n",
    "\t\treturn 1\n",
    "\tif len(A) == 1:\n",
    "\t\treturn 2 if A[0] == 1 else 1\n",
    "\tl = [0] * m\n",
    "\tfor i in range(len(A)):\n",
    "\t\tif A[i] > 0:\n",
    "\t\t\tif l[A[i] - 1] != 1:\n",
    "\n",
    "\t\t\t\tl[A[i] - 1] = 1\n",
    "\tfor i in range(len(l)):\n",
    "\n",
    "\t\tif l[i] == 0:\n",
    "\t\t\treturn i + 1\n",
    "\treturn i + 2\n",
    "\n",
    "\n",
    "\n",
    "arr = [0, 10, 2, -10, -20]\n",
    "print(solution(arr))\n"
   ]
  },
  {
   "cell_type": "code",
   "execution_count": null,
   "id": "dcc59ef9-b28b-4010-848b-230ec72d80bd",
   "metadata": {},
   "outputs": [],
   "source": [
    "42. Implement a function to find the longest palindrome substring in a given string.\n"
   ]
  },
  {
   "cell_type": "code",
   "execution_count": 14,
   "id": "7331cedd-b64d-4e67-ab98-58a30894d96a",
   "metadata": {},
   "outputs": [
    {
     "name": "stdout",
     "output_type": "stream",
     "text": [
      "Longest palindrome substring is: eee\n",
      "Length is: 3\n"
     ]
    }
   ],
   "source": [
    "def printSubStr(str, low, high):\n",
    "\tfor i in range(low, high + 1):\n",
    "\t\tprint(str[i], end=\"\")\n",
    "def longestPalSubstr(str):\n",
    "\tn = len(str)\n",
    "\tmaxLength = 1\n",
    "\tstart = 0\n",
    "\tfor i in range(n):\n",
    "\t\tfor j in range(i, n):\n",
    "\t\t\tflag = 1\n",
    "\t\t\tfor k in range(0, ((j - i) // 2) + 1):\n",
    "\t\t\t\tif (str[i + k] != str[j - k]):\n",
    "\t\t\t\t\tflag = 0\n",
    "\t\t\tif (flag != 0 and (j - i + 1) > maxLength):\n",
    "\t\t\t\tstart = i\n",
    "\t\t\t\tmaxLength = j - i + 1\n",
    "\n",
    "\tprint(\"Longest palindrome substring is: \", end=\"\")\n",
    "\tprintSubStr(str, start, start + maxLength - 1)\n",
    "\n",
    "\treturn maxLength\n",
    "str = \"leeethaibhaileet\"\n",
    "print(\"\\nLength is:\", longestPalSubstr(str))"
   ]
  },
  {
   "cell_type": "code",
   "execution_count": null,
   "id": "e870acb0-693f-471e-8c83-81acf5f8f09c",
   "metadata": {},
   "outputs": [],
   "source": [
    "43. Write a program to find the number of occurrences of a given element in a list."
   ]
  },
  {
   "cell_type": "code",
   "execution_count": 1,
   "id": "61a8dfa2-3fe4-4b6d-8368-40ce73001147",
   "metadata": {},
   "outputs": [
    {
     "name": "stdout",
     "output_type": "stream",
     "text": [
      "8 has occurred 5 times\n"
     ]
    }
   ],
   "source": [
    "def countX(lst, x):\n",
    "\tcount = 0\n",
    "\tfor ele in lst:\n",
    "\t\tif (ele == x):\n",
    "\t\t\tcount = count + 1\n",
    "\treturn count\n",
    "\n",
    "\n",
    "# Driver Code\n",
    "lst = [8, 6, 8, 10, 8, 20, 10, 8, 8]\n",
    "x = 8\n",
    "print('{} has occurred {} times'.format(x,countX(lst, x)))\n"
   ]
  },
  {
   "cell_type": "code",
   "execution_count": null,
   "id": "897093cf-26f1-49a6-902a-004f36463f35",
   "metadata": {},
   "outputs": [],
   "source": [
    "44. Implement a function to check if a given number is a perfect number.\n"
   ]
  },
  {
   "cell_type": "code",
   "execution_count": 2,
   "id": "50dc63a3-5522-4062-8f63-1a7b416765dc",
   "metadata": {},
   "outputs": [
    {
     "name": "stdout",
     "output_type": "stream",
     "text": [
      "perfect number\n"
     ]
    }
   ],
   "source": [
    "import math\n",
    "def checkperfectnumber(x):\n",
    "\tif (math.ceil(math.sqrt(n)) ==\n",
    "\tmath.floor(math.sqrt(n))):\n",
    "\t\tprint(\"perfect number\")\n",
    "\telse:\n",
    "\t\tprint(\"not a perfect number\")\n",
    "n = 49\n",
    "\n",
    "checkperfectnumber(n)"
   ]
  },
  {
   "cell_type": "code",
   "execution_count": null,
   "id": "11b12a02-42b3-4a2f-9d26-1ed399eab71e",
   "metadata": {},
   "outputs": [],
   "source": [
    "45. Write a Python program to remove all duplicates from a string."
   ]
  },
  {
   "cell_type": "code",
   "execution_count": 5,
   "id": "cf557ca5-454b-42c6-9b26-a0869bba9ca9",
   "metadata": {},
   "outputs": [
    {
     "name": "stdout",
     "output_type": "stream",
     "text": [
      "bacd\n"
     ]
    }
   ],
   "source": [
    "from collections import OrderedDict\n",
    "def solve(s):\n",
    "    d = OrderedDict()\n",
    "    for c in s:\n",
    "        if c not in d:\n",
    "            d[c] = 0\n",
    "        d[c] += 1\n",
    "\n",
    "    return ''.join(d.keys())\n",
    "\n",
    "s = \"bbabcaaccdbaabababc\"\n",
    "print(solve(s))"
   ]
  },
  {
   "cell_type": "code",
   "execution_count": null,
   "id": "0b32112b-292e-4d03-9f43-e1d4ed737f4d",
   "metadata": {},
   "outputs": [],
   "source": [
    "46. Implement a function to find the first missing positive\n"
   ]
  },
  {
   "cell_type": "code",
   "execution_count": null,
   "id": "ef9edd9b-2931-4b52-83c0-e8fb0a3c364e",
   "metadata": {},
   "outputs": [],
   "source": [
    "def findSmallestMissing(nums):\n",
    "    distinct = {*nums}\n",
    " \n",
    "    # return first smallest missing positive number from the set\n",
    "    index = 1\n",
    "    while True:\n",
    "        if index not in distinct:\n",
    "            return index\n",
    "        index += 1\n",
    " \n",
    " \n",
    "if __name__ == '__main__':\n",
    " \n",
    "    nums = [1, 4, 2, -1, 6, 5]\n",
    "    print('The smallest missing positive number from the array is',\n",
    "        findSmallestMissing(nums))"
   ]
  }
 ],
 "metadata": {
  "kernelspec": {
   "display_name": "Python 3 (ipykernel)",
   "language": "python",
   "name": "python3"
  },
  "language_info": {
   "codemirror_mode": {
    "name": "ipython",
    "version": 3
   },
   "file_extension": ".py",
   "mimetype": "text/x-python",
   "name": "python",
   "nbconvert_exporter": "python",
   "pygments_lexer": "ipython3",
   "version": "3.10.8"
  }
 },
 "nbformat": 4,
 "nbformat_minor": 5
}
