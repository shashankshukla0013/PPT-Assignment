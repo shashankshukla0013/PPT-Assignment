{
 "cells": [
  {
   "cell_type": "code",
   "execution_count": null,
   "id": "8c7facb1-0eeb-4261-ba11-d82b5b7fbd5a",
   "metadata": {},
   "outputs": [],
   "source": [
    "1. Scenario: A company wants to analyze the sales performance of its products in different regions.\n",
    "They have collected the following data:\n",
    "   Region A: [10, 15, 12, 8, 14]\n",
    "   Region B: [18, 20, 16, 22, 25]\n",
    "   Calculate the mean sales for each region."
   ]
  },
  {
   "cell_type": "code",
   "execution_count": 3,
   "id": "7eab27b0-bfaa-4e97-bfeb-d5470beeba74",
   "metadata": {},
   "outputs": [
    {
     "name": "stdout",
     "output_type": "stream",
     "text": [
      "Mean sales for region A :  11.8\n",
      "Mean sales for region B :  20.2\n"
     ]
    }
   ],
   "source": [
    "import numpy as np\n",
    "A = [10, 15, 12, 8, 14]\n",
    "C = np.mean(A)\n",
    "print(\"Mean sales for region A : \", C)\n",
    "B = [18, 20, 16, 22, 25]\n",
    "D = np.mean(B)\n",
    "print(\"Mean sales for region B : \", D)"
   ]
  },
  {
   "cell_type": "code",
   "execution_count": null,
   "id": "8e412b8d-9b18-4eb5-b3cc-c374e40c2931",
   "metadata": {},
   "outputs": [],
   "source": [
    "2. Scenario: A survey is conducted to measure customer satisfaction on a scale of 1 to 5. The data collected is as follows:\n",
    "   [4, 5, 2, 3, 5, 4, 3, 2, 4, 5]\n",
    "   Calculate the mode of the survey responses."
   ]
  },
  {
   "cell_type": "code",
   "execution_count": 6,
   "id": "69690f37-e9cd-4a46-a920-815fa8bcaa03",
   "metadata": {},
   "outputs": [
    {
     "name": "stdout",
     "output_type": "stream",
     "text": [
      "The mode of the survey =  [4, 5]\n"
     ]
    }
   ],
   "source": [
    "from statistics import multimode\n",
    "l = [4, 5, 2, 3, 5, 4, 3, 2, 4, 5]\n",
    "print(\"The mode of the survey = \",multimode(l))"
   ]
  },
  {
   "cell_type": "code",
   "execution_count": null,
   "id": "8f2f4e2a-dca7-4f42-9857-167b9840c39d",
   "metadata": {},
   "outputs": [],
   "source": [
    "3. Scenario: A company wants to compare the salaries of two departments.\n",
    "The salary data for Department A and Department B are as follows:\n",
    "   Department A: [5000, 6000, 5500, 7000]\n",
    "   Department B: [4500, 5500, 5800, 6000, 5200]\n",
    "   Calculate the median salary for each department."
   ]
  },
  {
   "cell_type": "code",
   "execution_count": 7,
   "id": "224cac69-3184-4a41-ba40-3d991b8dcd25",
   "metadata": {},
   "outputs": [
    {
     "name": "stdout",
     "output_type": "stream",
     "text": [
      "The median salary of department A:  5750.0\n",
      "The median salary of department B:  5500.0\n"
     ]
    }
   ],
   "source": [
    "import numpy as np\n",
    "A = [5000, 6000, 5500, 7000]\n",
    "median_A = np.median(A)\n",
    "print(\"The median salary of department A: \",median_A)\n",
    "B = [4500, 5500, 5800, 6000, 5200]\n",
    "median_B = np.median(B)\n",
    "print(\"The median salary of department B: \",median_B)"
   ]
  },
  {
   "cell_type": "code",
   "execution_count": null,
   "id": "fb9db9c2-aae7-4662-8798-f507e9b0840b",
   "metadata": {},
   "outputs": [],
   "source": [
    "4. Scenario: A data analyst wants to determine the variability in the daily stock prices of a company. \n",
    "      The data collected is as follows:\n",
    "   [25.5, 24.8, 26.1, 25.3, 24.9]\n",
    "   Calculate the range of the stock prices."
   ]
  },
  {
   "cell_type": "code",
   "execution_count": 22,
   "id": "04a54809-e21e-4ed3-a0a6-75bc420c13c9",
   "metadata": {},
   "outputs": [
    {
     "name": "stdout",
     "output_type": "stream",
     "text": [
      "The range of the stock price =  1.3\n"
     ]
    }
   ],
   "source": [
    "import numpy as np\n",
    "values = [25.5, 24.8, 26.1, 25.3, 24.9]\n",
    "l = numpy.ptp(values)\n",
    "\n",
    "print(\"The range of the stock price = \",round(l,2))"
   ]
  },
  {
   "cell_type": "code",
   "execution_count": null,
   "id": "e2743bcf-c242-496c-97df-96ed2557e06e",
   "metadata": {},
   "outputs": [],
   "source": [
    "5. Scenario: A study is conducted to compare the performance of two different teaching methods.\n",
    "The test scores of the students in each group are as follows:\n",
    "   Group A: [85, 90, 92, 88, 91]\n",
    "   Group B: [82, 88, 90, 86, 87]\n",
    "   Perform a t-test to determine if there is a significant difference in the mean scores between the two groups."
   ]
  },
  {
   "cell_type": "code",
   "execution_count": 1,
   "id": "260d6046-9706-49d4-af13-a06469370b44",
   "metadata": {},
   "outputs": [
    {
     "name": "stdout",
     "output_type": "stream",
     "text": [
      "There is no significant difference in the mean scores between Group A and Group B.\n"
     ]
    }
   ],
   "source": [
    "from scipy import stats\n",
    "group_a = [85, 90, 92, 88, 91]\n",
    "group_b = [82, 88, 90, 86, 87]\n",
    "t_statistic, p_value = stats.ttest_ind(group_a, group_b)\n",
    "if p_value < 0.05:\n",
    "    print(\"There is a significant difference in the mean scores between Group A and Group B.\")\n",
    "else:\n",
    "    print(\"There is no significant difference in the mean scores between Group A and Group B.\")"
   ]
  },
  {
   "cell_type": "code",
   "execution_count": null,
   "id": "93a2d53b-7ec6-4b17-b130-4798fe752882",
   "metadata": {},
   "outputs": [],
   "source": [
    "6. Scenario: A company wants to analyze the relationship between advertising expenditure and sales. \n",
    "    The data collected is as follows:\n",
    "   Advertising Expenditure (in thousands): [10, 15, 12, 8, 14]\n",
    "   Sales (in thousands): [25, 30, 28, 20, 26]\n",
    "   Calculate the correlation coefficient between advertising expenditure and sales.\n"
   ]
  },
  {
   "cell_type": "code",
   "execution_count": 2,
   "id": "9ebe1666-cbe1-4c66-852e-5bce82f73b4c",
   "metadata": {},
   "outputs": [
    {
     "name": "stdout",
     "output_type": "stream",
     "text": [
      "Correlation Coefficient: 0.8757511375750132\n"
     ]
    }
   ],
   "source": [
    "import numpy as np\n",
    "expenditure = np.array([10, 15, 12, 8, 14])\n",
    "sales = np.array([25, 30, 28, 20, 26])\n",
    "correlation_coefficient = np.corrcoef(expenditure, sales)[0, 1]\n",
    "print(\"Correlation Coefficient:\", correlation_coefficient)"
   ]
  },
  {
   "cell_type": "code",
   "execution_count": null,
   "id": "22af9dba-21cd-404d-a502-d5f6d93e5e84",
   "metadata": {},
   "outputs": [],
   "source": [
    "7. Scenario: A survey is conducted to measure the heights of a group of people. The data collected is as follows:\n",
    "   [160, 170, 165, 155, 175, 180, 170]\n",
    "   Calculate the standard deviation of the heights."
   ]
  },
  {
   "cell_type": "code",
   "execution_count": 3,
   "id": "79ac68dc-5016-482e-9a47-2553be7ec9f2",
   "metadata": {},
   "outputs": [
    {
     "name": "stdout",
     "output_type": "stream",
     "text": [
      "Standard Deviation of Heights: 7.953949089757174\n"
     ]
    }
   ],
   "source": [
    "import numpy as np\n",
    "heights = np.array([160, 170, 165, 155, 175, 180, 170])\n",
    "std_deviation = np.std(heights)\n",
    "print(\"Standard Deviation of Heights:\", std_deviation)"
   ]
  },
  {
   "cell_type": "code",
   "execution_count": null,
   "id": "81174790-f4b2-41ea-a8de-72e5dd6f9fb4",
   "metadata": {},
   "outputs": [],
   "source": [
    "8. Scenario: A company wants to analyze the relationship between employee tenure and job satisfaction.\n",
    "    The data collected is as follows:\n",
    "   Employee Tenure (in years): [2, 3, 5, 4, 6, 2, 4]\n",
    "   Job Satisfaction (on a scale of 1 to 10): [7, 8, 6, 9, 5, 7, 6]\n",
    "   Perform a linear regression analysis to predict job satisfaction based on employee tenure."
   ]
  },
  {
   "cell_type": "code",
   "execution_count": 4,
   "id": "5ce33c74-8dc0-43ab-90d8-8cc8bb9413c0",
   "metadata": {},
   "outputs": [
    {
     "name": "stdout",
     "output_type": "stream",
     "text": [
      "Predicted Job Satisfaction: 6.957446808510637\n"
     ]
    }
   ],
   "source": [
    "from sklearn.linear_model import LinearRegression\n",
    "import numpy as np\n",
    "tenure = np.array([2, 3, 5, 4, 6, 2, 4]).reshape(-1, 1)\n",
    "satisfaction = np.array([7, 8, 6, 9, 5, 7, 6])\n",
    "model = LinearRegression()\n",
    "model.fit(tenure, satisfaction)\n",
    "new_tenure = np.array([3.5]).reshape(-1, 1)\n",
    "predicted_satisfaction = model.predict(new_tenure)\n",
    "print(\"Predicted Job Satisfaction:\", predicted_satisfaction[0])"
   ]
  },
  {
   "cell_type": "code",
   "execution_count": null,
   "id": "458013d2-9ad1-4d2b-a85e-81de6257284f",
   "metadata": {},
   "outputs": [],
   "source": [
    "9. Scenario: A study is conducted to compare the effectiveness of two different medications.\n",
    "    The recovery times of the patients in each group are as follows:\n",
    "   Medication A: [10, 12, 14, 11, 13]\n",
    "   Medication B: [15, 17, 16, 14, 18]\n",
    "   Perform an analysis of variance (ANOVA) to determine if there is a significant difference \n",
    "    in the mean recovery times between the two medications."
   ]
  },
  {
   "cell_type": "code",
   "execution_count": 5,
   "id": "c4ce3b75-5c6d-4aeb-ae2c-a0a58ef6288f",
   "metadata": {},
   "outputs": [
    {
     "name": "stdout",
     "output_type": "stream",
     "text": [
      "There is a significant difference in the mean recovery times between the two medications.\n"
     ]
    }
   ],
   "source": [
    "from scipy import stats\n",
    "medication_a = [10, 12, 14, 11, 13]\n",
    "medication_b = [15, 17, 16, 14, 18]\n",
    "f_statistic, p_value = stats.f_oneway(medication_a, medication_b)\n",
    "if p_value < 0.05:\n",
    "    print(\"There is a significant difference in the mean recovery times between the two medications.\")\n",
    "else:\n",
    "    print(\"There is no significant difference in the mean recovery times between the two medications.\")"
   ]
  },
  {
   "cell_type": "code",
   "execution_count": null,
   "id": "9c647706-53c4-45c1-b558-d83afdc1b7e3",
   "metadata": {},
   "outputs": [],
   "source": [
    "10. Scenario: A company wants to analyze customer feedback ratings on a scale of 1 to 10. The data collected is\n",
    "\n",
    " as follows:\n",
    "    [8, 9, 7, 6, 8, 10, 9, 8, 7, 8]\n",
    "    Calculate the 75th percentile of the feedback ratings."
   ]
  },
  {
   "cell_type": "code",
   "execution_count": 6,
   "id": "b9f4ab1c-3a90-42dc-8766-278b96387609",
   "metadata": {},
   "outputs": [
    {
     "name": "stdout",
     "output_type": "stream",
     "text": [
      "75th Percentile of Feedback Ratings: 8.75\n"
     ]
    }
   ],
   "source": [
    "import numpy as np\n",
    "ratings = np.array([8, 9, 7, 6, 8, 10, 9, 8, 7, 8])\n",
    "percentile_75 = np.percentile(ratings, 75)\n",
    "print(\"75th Percentile of Feedback Ratings:\", percentile_75)"
   ]
  },
  {
   "cell_type": "code",
   "execution_count": null,
   "id": "f70b62c8-27cc-499e-b7df-dc42a6027462",
   "metadata": {},
   "outputs": [],
   "source": [
    "11. Scenario: A quality control department wants to test the weight consistency of a product.\n",
    "    The weights of a sample of products are as follows:\n",
    "    [10.2, 9.8, 10.0, 10.5, 10.3, 10.1]\n",
    "    Perform a hypothesis test to determine if the mean weight differs significantly from 10 grams.\n"
   ]
  },
  {
   "cell_type": "code",
   "execution_count": 7,
   "id": "c2fade8a-a43b-4a59-b57b-e89ca06c87e1",
   "metadata": {},
   "outputs": [
    {
     "name": "stdout",
     "output_type": "stream",
     "text": [
      "The mean weight does not differ significantly from 10 grams.\n"
     ]
    }
   ],
   "source": [
    "from scipy import stats\n",
    "weights = [10.2, 9.8, 10.0, 10.5, 10.3, 10.1]\n",
    "t_statistic, p_value = stats.ttest_1samp(weights, 10)\n",
    "\n",
    "if p_value < 0.05:\n",
    "    print(\"The mean weight differs significantly from 10 grams.\")\n",
    "else:\n",
    "    print(\"The mean weight does not differ significantly from 10 grams.\")"
   ]
  },
  {
   "cell_type": "code",
   "execution_count": null,
   "id": "69ce045b-04bd-4136-bc07-dd02f74b54c5",
   "metadata": {},
   "outputs": [],
   "source": [
    "12. Scenario: A company wants to analyze the click-through rates of two different website designs. \n",
    "    The number of clicks for each design is as follows:\n",
    "    Design A: [100, 120, 110, 90, 95]\n",
    "    Design B: [80, 85, 90, 95, 100]\n",
    "    Perform a chi-square test to determine if there is a significant difference in the\n",
    "    click-through rates between the two designs.\n"
   ]
  },
  {
   "cell_type": "code",
   "execution_count": 8,
   "id": "d4e8200d-4854-4b4c-8b80-1436e63c6943",
   "metadata": {},
   "outputs": [
    {
     "name": "stdout",
     "output_type": "stream",
     "text": [
      "There is no significant difference in the click-through rates between Design A and Design B.\n"
     ]
    }
   ],
   "source": [
    "from scipy import stats\n",
    "import numpy as np\n",
    "design_a = np.array([100, 120, 110, 90, 95])\n",
    "design_b = np.array([80, 85, 90, 95, 100])\n",
    "observed_frequencies = np.concatenate((design_a, design_b))\n",
    "expected_frequency = np.mean(observed_frequencies)\n",
    "chi2_statistic, p_value = stats.chisquare(observed_frequencies, f_exp=expected_frequency)\n",
    "if p_value < 0.05:\n",
    "    print(\"There is a significant difference in the click-through rates between Design A and Design B.\")\n",
    "else:\n",
    "    print(\"There is no significant difference in the click-through rates between Design A and Design B.\")"
   ]
  },
  {
   "cell_type": "code",
   "execution_count": null,
   "id": "777b4487-ceec-4706-9829-d1614211b282",
   "metadata": {},
   "outputs": [],
   "source": [
    "13. Scenario: A survey is conducted to measure customer satisfaction with a product on a scale of 1 to 10.\n",
    "    The data collected is as follows:\n",
    "    [7, 9, 6, 8, 10, 7, 8, 9, 7, 8]\n",
    "    Calculate the 95% confidence interval for the population mean satisfaction score.\n"
   ]
  },
  {
   "cell_type": "code",
   "execution_count": 9,
   "id": "3646d3e1-9885-47cf-a48a-afc7d9d0f2c7",
   "metadata": {},
   "outputs": [
    {
     "name": "stdout",
     "output_type": "stream",
     "text": [
      "95% Confidence Interval: (7.043561120599888, 8.756438879400113)\n"
     ]
    }
   ],
   "source": [
    "import numpy as np\n",
    "from scipy import stats\n",
    "scores = np.array([7, 9, 6, 8, 10, 7, 8, 9, 7, 8])\n",
    "sample_mean = np.mean(scores)\n",
    "standard_error = stats.sem(scores)\n",
    "\n",
    "confidence_interval = stats.t.interval(0.95, len(scores) - 1, loc=sample_mean, scale=standard_error)\n",
    "print(\"95% Confidence Interval:\", confidence_interval)"
   ]
  },
  {
   "cell_type": "code",
   "execution_count": null,
   "id": "09f23435-2606-4784-88be-f11da96011c3",
   "metadata": {},
   "outputs": [],
   "source": [
    "14. Scenario: A company wants to analyze the effect of temperature on product performance. The data collected is as follows:\n",
    "    Temperature (in degrees Celsius): [20, 22, 23, 19, 21]\n",
    "    Performance (on a scale of 1 to 10): [8, 7, 9, 6, 8]\n",
    "    Perform a simple linear regression to predict performance based on temperature.\n"
   ]
  },
  {
   "cell_type": "code",
   "execution_count": 10,
   "id": "75627125-5e00-4eb3-a13a-b06c6d2ee99d",
   "metadata": {},
   "outputs": [
    {
     "name": "stdout",
     "output_type": "stream",
     "text": [
      "Predicted Performance: 9.099999999999998\n"
     ]
    }
   ],
   "source": [
    "import numpy as np\n",
    "from sklearn.linear_model import LinearRegression\n",
    "temperature = np.array([20, 22, 23, 19, 21]).reshape(-1, 1)\n",
    "performance = np.array([8, 7, 9, 6, 8])\n",
    "model = LinearRegression()\n",
    "model.fit(temperature, performance)\n",
    "new_temperature = np.array([24]).reshape(-1, 1)\n",
    "predicted_performance = model.predict(new_temperature)\n",
    "\n",
    "print(\"Predicted Performance:\", predicted_performance[0])"
   ]
  },
  {
   "cell_type": "code",
   "execution_count": null,
   "id": "dd9eb195-8f42-4291-90eb-2a84ecaa5b58",
   "metadata": {},
   "outputs": [],
   "source": [
    "\n",
    "15. Scenario: A study is conducted to compare the preferences of two groups of participants.\n",
    "    The preferences are measured on a Likert scale from 1 to 5. The data collected is as follows:\n",
    "    Group A: [4, 3, 5, 2, 4]\n",
    "    Group B: [3, 2, 4, 3, 3]\n",
    "    Perform a Mann-Whitney U test to determine if there is a significant difference in \n",
    "    the median preferences between the two groups.\n"
   ]
  },
  {
   "cell_type": "code",
   "execution_count": 11,
   "id": "7227e0af-1239-4ec6-9c99-e11b580b9808",
   "metadata": {},
   "outputs": [
    {
     "name": "stdout",
     "output_type": "stream",
     "text": [
      "There is no significant difference in the median preferences between Group A and Group B.\n"
     ]
    }
   ],
   "source": [
    "from scipy import stats\n",
    "\n",
    "group_a = [4, 3, 5, 2, 4]\n",
    "group_b = [3, 2, 4, 3, 3]\n",
    "\n",
    "statistic, p_value = stats.mannwhitneyu(group_a, group_b)\n",
    "if p_value < 0.05:\n",
    "    print(\"There is a significant difference in the median preferences between Group A and Group B.\")\n",
    "else:\n",
    "    print(\"There is no significant difference in the median preferences between Group A and Group B.\")"
   ]
  },
  {
   "cell_type": "code",
   "execution_count": null,
   "id": "99a472d2-ffbf-49a0-8d60-293fbb82c88e",
   "metadata": {},
   "outputs": [],
   "source": [
    "16. Scenario: A company wants to analyze the distribution of customer ages. The data collected is as follows:\n",
    "    [25, 30, 35, 40, 45, 50, 55, 60, 65, 70]\n",
    "    Calculate the interquartile range (IQR) of the ages.\n"
   ]
  },
  {
   "cell_type": "code",
   "execution_count": 12,
   "id": "6def05c1-dfcc-42f9-b564-f5b1acad921e",
   "metadata": {},
   "outputs": [
    {
     "name": "stdout",
     "output_type": "stream",
     "text": [
      "Interquartile Range (IQR) of Ages: 22.5\n"
     ]
    }
   ],
   "source": [
    "import numpy as np\n",
    "ages = np.array([25, 30, 35, 40, 45, 50, 55, 60, 65, 70])\n",
    "\n",
    "q1 = np.percentile(ages, 25)\n",
    "\n",
    "q3 = np.percentile(ages, 75)\n",
    "\n",
    "iqr = q3 - q1\n",
    "\n",
    "print(\"Interquartile Range (IQR) of Ages:\", iqr)"
   ]
  },
  {
   "cell_type": "code",
   "execution_count": null,
   "id": "0e587b5e-c3ab-48af-807f-51f9bfcfeaf0",
   "metadata": {},
   "outputs": [],
   "source": [
    "17. Scenario: A study is conducted to compare the performance of three different machine learning algorithms. \n",
    "    The accuracy scores for each algorithm are as follows:\n",
    "    Algorithm A: [0.85, 0.80, 0.82, 0.87, 0.83]\n",
    "    Algorithm B: [0.78, 0.82, 0.84, 0.80, 0.79]\n",
    "    Algorithm C: [0.90, 0.88, 0.89, 0.86, 0.87]\n",
    "    Perform a Kruskal-Wallis test to determine if there is a significant difference in the median accuracy \n",
    "        scores between the algorithms.\n"
   ]
  },
  {
   "cell_type": "code",
   "execution_count": 13,
   "id": "7012c564-47c3-4bc4-b5b9-df014e60c72b",
   "metadata": {},
   "outputs": [
    {
     "name": "stdout",
     "output_type": "stream",
     "text": [
      "There is a significant difference in the median accuracy scores between the algorithms.\n"
     ]
    }
   ],
   "source": [
    "from scipy import stats\n",
    "algorithm_a = [0.85, 0.80, 0.82, 0.87, 0.83]\n",
    "algorithm_b = [0.78, 0.82, 0.84, 0.80, 0.79]\n",
    "algorithm_c = [0.90, 0.88, 0.89, 0.86, 0.87]\n",
    "\n",
    "statistic, p_value = stats.kruskal(algorithm_a, algorithm_b, algorithm_c)\n",
    "\n",
    "if p_value < 0.05:\n",
    "    print(\"There is a significant difference in the median accuracy scores between the algorithms.\")\n",
    "else:\n",
    "    print(\"There is no significant difference in the median accuracy scores between the algorithms.\")"
   ]
  },
  {
   "cell_type": "code",
   "execution_count": null,
   "id": "6ddb67b6-159d-48ed-806e-c6f13e0b8cd7",
   "metadata": {},
   "outputs": [],
   "source": [
    "\n",
    "18. Scenario: A company wants to analyze the effect of price on sales. The data collected is as follows:\n",
    "    Price (in dollars): [10, 15, 12, 8, 14]\n",
    "    Sales: [100, 80, 90, 110, 95]\n",
    "    Perform a simple linear regression to predict sales based on price.\n"
   ]
  },
  {
   "cell_type": "code",
   "execution_count": 14,
   "id": "7497844f-6dab-4f21-ac25-076e4bdb2090",
   "metadata": {},
   "outputs": [
    {
     "name": "stdout",
     "output_type": "stream",
     "text": [
      "Predicted Sales: 97.8048780487805\n"
     ]
    }
   ],
   "source": [
    "import numpy as np\n",
    "from sklearn.linear_model import LinearRegression\n",
    "price = np.array([10, 15, 12, 8, 14]).reshape(-1, 1)\n",
    "sales = np.array([100, 80, 90, 110, 95])\n",
    "\n",
    "model = LinearRegression()\n",
    "model.fit(price, sales)\n",
    "\n",
    "new_price = np.array([11]).reshape(-1, 1)\n",
    "predicted_sales = model.predict(new_price)\n",
    "\n",
    "print(\"Predicted Sales:\", predicted_sales[0])"
   ]
  },
  {
   "cell_type": "code",
   "execution_count": null,
   "id": "447bb730-7921-456c-af7b-c18b0eb4407c",
   "metadata": {},
   "outputs": [],
   "source": [
    "19. Scenario: A survey is conducted to measure the satisfaction levels of customers with a new product.\n",
    "    The data collected is as follows:\n",
    "    [7, 8, 9, 6, 8, 7, 9, 7, 8, 7]\n",
    "    Calculate the standard error of the mean satisfaction score.\n"
   ]
  },
  {
   "cell_type": "code",
   "execution_count": 15,
   "id": "401dc4c3-f0cf-4bba-b820-0b1b30508784",
   "metadata": {},
   "outputs": [
    {
     "name": "stdout",
     "output_type": "stream",
     "text": [
      "Standard Error of the Mean: 0.30550504633038933\n"
     ]
    }
   ],
   "source": [
    "import numpy as np\n",
    "from scipy import stats\n",
    "scores = np.array([7, 8, 9, 6, 8, 7, 9, 7, 8, 7])\n",
    "\n",
    "standard_error = stats.sem(scores)\n",
    "\n",
    "print(\"Standard Error of the Mean:\", standard_error)"
   ]
  },
  {
   "cell_type": "code",
   "execution_count": null,
   "id": "5d0aef7c-8039-42cd-9dc2-994569b8832a",
   "metadata": {},
   "outputs": [],
   "source": [
    "20. Scenario: A company wants to analyze the relationship between advertising expenditure and sales.\n",
    "    The data collected is as follows:\n",
    "    Advertising Expenditure (in thousands): [10, 15, 12, 8, 14]\n",
    "    Sales (in thousands): [25, 30, 28, 20, 26]\n",
    "    Perform a multiple regression analysis to predict sales based on advertising expenditure.\n"
   ]
  },
  {
   "cell_type": "code",
   "execution_count": 16,
   "id": "9bb33fe4-26af-40cc-a312-3146e6acaed6",
   "metadata": {},
   "outputs": [
    {
     "name": "stdout",
     "output_type": "stream",
     "text": [
      "Predicted Sales: 27.182926829268293\n"
     ]
    }
   ],
   "source": [
    "import numpy as np\n",
    "from sklearn.linear_model import LinearRegression\n",
    "expenditure = np.array([10, 15, 12, 8, 14]).reshape(-1, 1)\n",
    "sales = np.array([25, 30, 28, 20, 26])\n",
    "\n",
    "model = LinearRegression()\n",
    "model.fit(expenditure, sales)\n",
    "\n",
    "new_expenditure = np.array([13]).reshape(-1, 1)\n",
    "predicted_sales = model.predict(new_expenditure)\n",
    "\n",
    "print(\"Predicted Sales:\", predicted_sales[0])"
   ]
  },
  {
   "cell_type": "code",
   "execution_count": null,
   "id": "1d17ede0-afcf-4d6a-bd8a-11e378cad58d",
   "metadata": {},
   "outputs": [],
   "source": []
  }
 ],
 "metadata": {
  "kernelspec": {
   "display_name": "Python 3 (ipykernel)",
   "language": "python",
   "name": "python3"
  },
  "language_info": {
   "codemirror_mode": {
    "name": "ipython",
    "version": 3
   },
   "file_extension": ".py",
   "mimetype": "text/x-python",
   "name": "python",
   "nbconvert_exporter": "python",
   "pygments_lexer": "ipython3",
   "version": "3.10.8"
  }
 },
 "nbformat": 4,
 "nbformat_minor": 5
}
